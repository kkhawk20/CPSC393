{
 "cells": [
  {
   "attachments": {},
   "cell_type": "markdown",
   "metadata": {},
   "source": [
    "# Homework 5 (Generative Models)\n",
    "\n",
    "In class we learned two main types of generative models: **GANs** and **VAEs**. We also learned about **Conditional GANs** which input the *class* of an image (like digit in the MNIST dataset) into both the Generator and Discriminator. \n",
    "\n",
    "Using these three examples (GAN, VAE, Conditional GAN), run the code, and **modify** it to generate at least 25 different generated digit images **each**. \n",
    "\n",
    "- [VAE Tensorflow Example](https://colab.research.google.com/drive/18EmzWN17Q732sMrUoznsx3VCfiptq5P5?usp=sharing)\n",
    "- [GAN Tensorflow Example](https://colab.research.google.com/drive/1DwWzJ428h4MRDOEB2B-aR_i4fb0J5oHQ?usp=sharing)\n",
    "- [Conditional GAN Tensorflow Example](https://colab.research.google.com/drive/12RQM9gOsooycBUlYsZQ4VRJ03IW08ZHA?usp=sharing)\n",
    "\n",
    "Instead of having a typical technical report, you should have three sections:\n",
    "\n",
    "1. **Introduction**\n",
    "\n",
    "(a few sentences about the dataset and generative models in general to help non-technical readers understand the problem.)\n",
    "\n",
    "2. **Differences** Between Model Architechtures, Inputs/Outputs, Loss(es) and Training\n",
    "\n",
    "Explain the difference between how we generate samples in the 3 models (e.g. what are the differences in the inputs of each model, how they're trained, architectures, the types of layers, activations, sizes, the way they generate samples...etc).\n",
    "\n",
    "3. **Comparison** of Outputs\n",
    "\n",
    "A thorough subjective discussion about the differences in the generated images (e.g. quality, blurriness, realism, ability to interpolate, ease of selecting a particular digit...etc). Please include all of your generated images in the report at the end of the report. In this comparison section, selected a few key examples to discuss more deeply.\n",
    "\n",
    "4. **Generated Images**\n",
    "Put ALL your generated images (at least 25 per model) at the end of the report.\n",
    "\n",
    "Due to the more limited nature of this assignment, make sure your discussions are detailed and thourough and show a **deep** understanding of the differences between VAEs, GANs, and Conditional GANs.\n",
    "\n",
    "\n",
    "## Checklist\n",
    "\n",
    "You should be turning in:\n",
    "\n",
    "- A PDF of your Report (please include images, tables...etc IN THE REPORT)\n",
    "- a txt/md README file\n"
   ]
  }
 ],
 "metadata": {
  "language_info": {
   "name": "python"
  },
  "orig_nbformat": 4
 },
 "nbformat": 4,
 "nbformat_minor": 2
}
